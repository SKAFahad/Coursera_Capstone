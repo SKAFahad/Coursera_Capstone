{
 "cells": [
  {
   "cell_type": "markdown",
   "metadata": {},
   "source": [
    "<h1 align=center><font size = 6>Potential Business opportunity in Coax's Bazar: Comparative Data Analysis with equivalent Cities of India and Malaysia</font></h1>"
   ]
  },
  {
   "cell_type": "markdown",
   "metadata": {},
   "source": [
    "##### Environment Setup"
   ]
  },
  {
   "cell_type": "code",
   "execution_count": 311,
   "metadata": {},
   "outputs": [
    {
     "name": "stdout",
     "output_type": "stream",
     "text": [
      "Requirement already satisfied: BeautifulSoup4 in /home/jupyterlab/conda/envs/python/lib/python3.6/site-packages (4.8.2)\n",
      "Requirement already satisfied: soupsieve>=1.2 in /home/jupyterlab/conda/envs/python/lib/python3.6/site-packages (from BeautifulSoup4) (1.9.5)\n",
      "Note: you may need to restart the kernel to use updated packages.\n"
     ]
    }
   ],
   "source": [
    "pip install BeautifulSoup4"
   ]
  },
  {
   "cell_type": "code",
   "execution_count": 312,
   "metadata": {},
   "outputs": [
    {
     "name": "stdout",
     "output_type": "stream",
     "text": [
      "Requirement already satisfied: html5lib in /home/jupyterlab/conda/envs/python/lib/python3.6/site-packages (0.9999999)\n",
      "Requirement already satisfied: six in /home/jupyterlab/conda/envs/python/lib/python3.6/site-packages (from html5lib) (1.13.0)\n",
      "Note: you may need to restart the kernel to use updated packages.\n"
     ]
    }
   ],
   "source": [
    "pip install html5lib"
   ]
  },
  {
   "cell_type": "code",
   "execution_count": 313,
   "metadata": {},
   "outputs": [
    {
     "name": "stdout",
     "output_type": "stream",
     "text": [
      "Requirement already satisfied: lxml in /home/jupyterlab/conda/envs/python/lib/python3.6/site-packages (4.4.2)\n",
      "Note: you may need to restart the kernel to use updated packages.\n"
     ]
    }
   ],
   "source": [
    "pip install lxml"
   ]
  },
  {
   "cell_type": "code",
   "execution_count": 314,
   "metadata": {},
   "outputs": [
    {
     "name": "stdout",
     "output_type": "stream",
     "text": [
      "Requirement already satisfied: folium in /home/jupyterlab/conda/envs/python/lib/python3.6/site-packages (0.5.0)\n",
      "Requirement already satisfied: branca in /home/jupyterlab/conda/envs/python/lib/python3.6/site-packages (from folium) (0.3.1)\n",
      "Requirement already satisfied: jinja2 in /home/jupyterlab/conda/envs/python/lib/python3.6/site-packages (from folium) (2.10.3)\n",
      "Requirement already satisfied: requests in /home/jupyterlab/conda/envs/python/lib/python3.6/site-packages (from folium) (2.22.0)\n",
      "Requirement already satisfied: six in /home/jupyterlab/conda/envs/python/lib/python3.6/site-packages (from folium) (1.13.0)\n",
      "Requirement already satisfied: MarkupSafe>=0.23 in /home/jupyterlab/conda/envs/python/lib/python3.6/site-packages (from jinja2->folium) (1.1.1)\n",
      "Requirement already satisfied: urllib3!=1.25.0,!=1.25.1,<1.26,>=1.21.1 in /home/jupyterlab/conda/envs/python/lib/python3.6/site-packages (from requests->folium) (1.25.7)\n",
      "Requirement already satisfied: chardet<3.1.0,>=3.0.2 in /home/jupyterlab/conda/envs/python/lib/python3.6/site-packages (from requests->folium) (3.0.4)\n",
      "Requirement already satisfied: idna<2.9,>=2.5 in /home/jupyterlab/conda/envs/python/lib/python3.6/site-packages (from requests->folium) (2.8)\n",
      "Requirement already satisfied: certifi>=2017.4.17 in /home/jupyterlab/conda/envs/python/lib/python3.6/site-packages (from requests->folium) (2019.9.11)\n",
      "Note: you may need to restart the kernel to use updated packages.\n"
     ]
    }
   ],
   "source": [
    "pip install folium"
   ]
  },
  {
   "cell_type": "code",
   "execution_count": 315,
   "metadata": {},
   "outputs": [
    {
     "name": "stdout",
     "output_type": "stream",
     "text": [
      "Requirement already satisfied: geocoder in /home/jupyterlab/conda/envs/python/lib/python3.6/site-packages (1.38.1)\n",
      "Requirement already satisfied: ratelim in /home/jupyterlab/conda/envs/python/lib/python3.6/site-packages (from geocoder) (0.1.6)\n",
      "Requirement already satisfied: requests in /home/jupyterlab/conda/envs/python/lib/python3.6/site-packages (from geocoder) (2.22.0)\n",
      "Requirement already satisfied: future in /home/jupyterlab/conda/envs/python/lib/python3.6/site-packages (from geocoder) (0.18.2)\n",
      "Requirement already satisfied: six in /home/jupyterlab/conda/envs/python/lib/python3.6/site-packages (from geocoder) (1.13.0)\n",
      "Requirement already satisfied: click in /home/jupyterlab/conda/envs/python/lib/python3.6/site-packages (from geocoder) (7.0)\n",
      "Requirement already satisfied: decorator in /home/jupyterlab/conda/envs/python/lib/python3.6/site-packages (from ratelim->geocoder) (4.4.1)\n",
      "Requirement already satisfied: urllib3!=1.25.0,!=1.25.1,<1.26,>=1.21.1 in /home/jupyterlab/conda/envs/python/lib/python3.6/site-packages (from requests->geocoder) (1.25.7)\n",
      "Requirement already satisfied: chardet<3.1.0,>=3.0.2 in /home/jupyterlab/conda/envs/python/lib/python3.6/site-packages (from requests->geocoder) (3.0.4)\n",
      "Requirement already satisfied: idna<2.9,>=2.5 in /home/jupyterlab/conda/envs/python/lib/python3.6/site-packages (from requests->geocoder) (2.8)\n",
      "Requirement already satisfied: certifi>=2017.4.17 in /home/jupyterlab/conda/envs/python/lib/python3.6/site-packages (from requests->geocoder) (2019.9.11)\n",
      "Note: you may need to restart the kernel to use updated packages.\n"
     ]
    }
   ],
   "source": [
    "pip install geocoder"
   ]
  },
  {
   "cell_type": "code",
   "execution_count": 316,
   "metadata": {},
   "outputs": [
    {
     "name": "stdout",
     "output_type": "stream",
     "text": [
      "Requirement already satisfied: geopy in /home/jupyterlab/conda/envs/python/lib/python3.6/site-packages (1.20.0)\n",
      "Requirement already satisfied: geographiclib<2,>=1.49 in /home/jupyterlab/conda/envs/python/lib/python3.6/site-packages (from geopy) (1.50)\n",
      "Note: you may need to restart the kernel to use updated packages.\n"
     ]
    }
   ],
   "source": [
    "pip install geopy"
   ]
  },
  {
   "cell_type": "markdown",
   "metadata": {},
   "source": [
    "###### Import Libraries"
   ]
  },
  {
   "cell_type": "code",
   "execution_count": 317,
   "metadata": {},
   "outputs": [
    {
     "name": "stdout",
     "output_type": "stream",
     "text": [
      "Imported\n"
     ]
    }
   ],
   "source": [
    "import pandas as pd\n",
    "import numpy as np\n",
    "from pandas.io.html import read_html\n",
    "import geocoder\n",
    "import matplotlib.pyplot as plt\n",
    "from matplotlib import cm, colors\n",
    "import folium\n",
    "import requests\n",
    "from sklearn.cluster import KMeans\n",
    "from geopy.geocoders import Nominatim\n",
    "%matplotlib inline \n",
    "import matplotlib.patches as mpatches\n",
    "import sys\n",
    "print(\"Imported\")"
   ]
  },
  {
   "cell_type": "code",
   "execution_count": 318,
   "metadata": {},
   "outputs": [
    {
     "name": "stdout",
     "output_type": "stream",
     "text": [
      "Your credentails:\n",
      "CLIENT_ID: XNEXOP42BZTJAHJREQYEH4W5TZKCPUJNEGCFKMR3BG1MGW4M\n",
      "CLIENT_SECRET:FGT1L3QYQSFRMWAGHHC4UBJ1U53C5CIQW5DNKJ3Z2HKEEMZH\n"
     ]
    }
   ],
   "source": [
    "# Setup the foursqure API setup\n",
    "\n",
    "CLIENT_ID = 'XNEXOP42BZTJAHJREQYEH4W5TZKCPUJNEGCFKMR3BG1MGW4M' # your Foursquare ID\n",
    "CLIENT_SECRET = 'FGT1L3QYQSFRMWAGHHC4UBJ1U53C5CIQW5DNKJ3Z2HKEEMZH' # your Foursquare Secret\n",
    "VERSION = '20200101'\n",
    "print('Your credentails:')\n",
    "print('CLIENT_ID: ' + CLIENT_ID)\n",
    "print('CLIENT_SECRET:' + CLIENT_SECRET)"
   ]
  },
  {
   "cell_type": "markdown",
   "metadata": {},
   "source": [
    "###### Prepare DataFrame from primarily collected data"
   ]
  },
  {
   "cell_type": "code",
   "execution_count": 319,
   "metadata": {},
   "outputs": [
    {
     "data": {
      "text/html": [
       "<div>\n",
       "<style scoped>\n",
       "    .dataframe tbody tr th:only-of-type {\n",
       "        vertical-align: middle;\n",
       "    }\n",
       "\n",
       "    .dataframe tbody tr th {\n",
       "        vertical-align: top;\n",
       "    }\n",
       "\n",
       "    .dataframe thead th {\n",
       "        text-align: right;\n",
       "    }\n",
       "</style>\n",
       "<table border=\"1\" class=\"dataframe\">\n",
       "  <thead>\n",
       "    <tr style=\"text-align: right;\">\n",
       "      <th></th>\n",
       "      <th>location</th>\n",
       "      <th>neighbourhood</th>\n",
       "      <th>postal code</th>\n",
       "      <th>Latitude</th>\n",
       "      <th>Longitude</th>\n",
       "    </tr>\n",
       "  </thead>\n",
       "  <tbody>\n",
       "    <tr>\n",
       "      <th>0</th>\n",
       "      <td>Cox's Bazar</td>\n",
       "      <td>Badarkali</td>\n",
       "      <td>4742</td>\n",
       "      <td>21.732884</td>\n",
       "      <td>91.955025</td>\n",
       "    </tr>\n",
       "    <tr>\n",
       "      <th>1</th>\n",
       "      <td>Cox's Bazar</td>\n",
       "      <td>Chiringga</td>\n",
       "      <td>4740</td>\n",
       "      <td>21.745316</td>\n",
       "      <td>92.059705</td>\n",
       "    </tr>\n",
       "    <tr>\n",
       "      <th>2</th>\n",
       "      <td>Cox's Bazar</td>\n",
       "      <td>Chiringga S.O</td>\n",
       "      <td>4741</td>\n",
       "      <td>21.718237</td>\n",
       "      <td>92.022854</td>\n",
       "    </tr>\n",
       "    <tr>\n",
       "      <th>3</th>\n",
       "      <td>Cox's Bazar</td>\n",
       "      <td>Malumghat</td>\n",
       "      <td>4743</td>\n",
       "      <td>21.671797</td>\n",
       "      <td>92.076212</td>\n",
       "    </tr>\n",
       "    <tr>\n",
       "      <th>4</th>\n",
       "      <td>Cox's Bazar</td>\n",
       "      <td>Coxs Bazar Sadar</td>\n",
       "      <td>4700</td>\n",
       "      <td>21.426932</td>\n",
       "      <td>92.005865</td>\n",
       "    </tr>\n",
       "  </tbody>\n",
       "</table>\n",
       "</div>"
      ],
      "text/plain": [
       "      location     neighbourhood  postal code   Latitude  Longitude\n",
       "0  Cox's Bazar         Badarkali         4742  21.732884  91.955025\n",
       "1  Cox's Bazar         Chiringga         4740  21.745316  92.059705\n",
       "2  Cox's Bazar     Chiringga S.O         4741  21.718237  92.022854\n",
       "3  Cox's Bazar         Malumghat         4743  21.671797  92.076212\n",
       "4  Cox's Bazar  Coxs Bazar Sadar         4700  21.426932  92.005865"
      ]
     },
     "execution_count": 319,
     "metadata": {},
     "output_type": "execute_result"
    }
   ],
   "source": [
    "# location data of coax's bazar from the website of the Ministry of Post and Telecommunication of the Government of Bangladesh\n",
    "path_coax='Coax bazar.csv'\n",
    "loc_coax= pd.read_csv(path_coax)\n",
    "loc_coax.head()"
   ]
  },
  {
   "cell_type": "code",
   "execution_count": 320,
   "metadata": {},
   "outputs": [
    {
     "name": "stdout",
     "output_type": "stream",
     "text": [
      "Coax's Bazar Geographical coordinates are Latitude=21.4293506, Lngitude=91.9724146 \n"
     ]
    }
   ],
   "source": [
    "# get the latitude and longitude of cox bazer\n",
    "address = \"Cox'sbazar, Bangladesh\"\n",
    "geolocator = Nominatim(user_agent=\"Foursquare_agent\")\n",
    "location = geolocator.geocode(address)\n",
    "coax_latitude = location.latitude\n",
    "coax_longitude = location.longitude\n",
    "print(\"Coax's Bazar Geographical coordinates are Latitude={}, Lngitude={} \" .format(coax_latitude, coax_longitude))"
   ]
  },
  {
   "cell_type": "code",
   "execution_count": 321,
   "metadata": {},
   "outputs": [
    {
     "data": {
      "text/html": [
       "<div style=\"width:100%;\"><div style=\"position:relative;width:100%;height:0;padding-bottom:60%;\"><iframe src=\"data:text/html;charset=utf-8;base64,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\" style=\"position:absolute;width:100%;height:100%;left:0;top:0;border:none !important;\" allowfullscreen webkitallowfullscreen mozallowfullscreen></iframe></div></div>"
      ],
      "text/plain": [
       "<folium.folium.Map at 0x7f4f77b93358>"
      ]
     },
     "execution_count": 321,
     "metadata": {},
     "output_type": "execute_result"
    }
   ],
   "source": [
    "# Create a map of Coax's Bazer\n",
    "coax_map = folium.Map(location=[coax_latitude, coax_longitude], zoom_start=11, control_scale = True)\n",
    "\n",
    "for lat, lng, Borough, Neighbourhood in zip(loc_coax['Latitude'], loc_coax['Longitude'], loc_coax['location'], loc_coax['neighbourhood']):\n",
    "    tag = '{}, {}'.format(Neighbourhood, Borough)\n",
    "    tag = folium.Popup(tag, parse_html=True)\n",
    "    folium.CircleMarker(\n",
    "        [lat, lng],\n",
    "        radius=5,\n",
    "        popup=tag,\n",
    "        color='blue',\n",
    "        fill=True,\n",
    "        fill_color='#3186cc',\n",
    "        fill_opacity=0.6,\n",
    "        parse_html=False).add_to(coax_map)\n",
    "\n",
    "coax_map.add_child(folium.LatLngPopup())\n",
    "    \n",
    "coax_map"
   ]
  },
  {
   "cell_type": "code",
   "execution_count": 322,
   "metadata": {},
   "outputs": [
    {
     "data": {
      "text/html": [
       "<div>\n",
       "<style scoped>\n",
       "    .dataframe tbody tr th:only-of-type {\n",
       "        vertical-align: middle;\n",
       "    }\n",
       "\n",
       "    .dataframe tbody tr th {\n",
       "        vertical-align: top;\n",
       "    }\n",
       "\n",
       "    .dataframe thead th {\n",
       "        text-align: right;\n",
       "    }\n",
       "</style>\n",
       "<table border=\"1\" class=\"dataframe\">\n",
       "  <thead>\n",
       "    <tr style=\"text-align: right;\">\n",
       "      <th></th>\n",
       "      <th>location</th>\n",
       "      <th>neighbourhood</th>\n",
       "      <th>postal code</th>\n",
       "      <th>Latitude</th>\n",
       "      <th>Longitude</th>\n",
       "    </tr>\n",
       "  </thead>\n",
       "  <tbody>\n",
       "    <tr>\n",
       "      <th>0</th>\n",
       "      <td>Mandarmoni</td>\n",
       "      <td>Gopalchak</td>\n",
       "      <td>721423</td>\n",
       "      <td>21.777939</td>\n",
       "      <td>87.834543</td>\n",
       "    </tr>\n",
       "    <tr>\n",
       "      <th>1</th>\n",
       "      <td>Mandarmoni</td>\n",
       "      <td>Deuli</td>\n",
       "      <td>721423</td>\n",
       "      <td>21.682923</td>\n",
       "      <td>87.627414</td>\n",
       "    </tr>\n",
       "    <tr>\n",
       "      <th>2</th>\n",
       "      <td>Mandarmoni</td>\n",
       "      <td>Bodhra</td>\n",
       "      <td>721423</td>\n",
       "      <td>21.655692</td>\n",
       "      <td>87.583551</td>\n",
       "    </tr>\n",
       "    <tr>\n",
       "      <th>3</th>\n",
       "      <td>Mandarmoni</td>\n",
       "      <td>Narkuli</td>\n",
       "      <td>721423</td>\n",
       "      <td>21.691050</td>\n",
       "      <td>87.578472</td>\n",
       "    </tr>\n",
       "    <tr>\n",
       "      <th>4</th>\n",
       "      <td>Mandarmoni</td>\n",
       "      <td>Balisai</td>\n",
       "      <td>721423</td>\n",
       "      <td>21.677948</td>\n",
       "      <td>87.599038</td>\n",
       "    </tr>\n",
       "  </tbody>\n",
       "</table>\n",
       "</div>"
      ],
      "text/plain": [
       "     location neighbourhood  postal code   Latitude  Longitude\n",
       "0  Mandarmoni    Gopalchak        721423  21.777939  87.834543\n",
       "1  Mandarmoni         Deuli       721423  21.682923  87.627414\n",
       "2  Mandarmoni        Bodhra       721423  21.655692  87.583551\n",
       "3  Mandarmoni       Narkuli       721423  21.691050  87.578472\n",
       "4  Mandarmoni       Balisai       721423  21.677948  87.599038"
      ]
     },
     "execution_count": 322,
     "metadata": {},
     "output_type": "execute_result"
    }
   ],
   "source": [
    "# Location data of East Medinipur, West Bangle postal services website used to collect the postal information\n",
    "path_empur = 'East Medinipur (Digha and Mandarmani).csv'\n",
    "loc_empur=pd.read_csv(path_empur)\n",
    "loc_empur.head()"
   ]
  },
  {
   "cell_type": "code",
   "execution_count": 324,
   "metadata": {},
   "outputs": [
    {
     "name": "stdout",
     "output_type": "stream",
     "text": [
      "East Medinipur Geographical coordinates are Latitude=22.4207025, Lngitude=87.3269963 \n"
     ]
    }
   ],
   "source": [
    "# get the latitude and longitude of East Medinipur\n",
    "address = \"East Medinipur, India\"\n",
    "geolocator = Nominatim(user_agent=\"Foursquare_agent\")\n",
    "location = geolocator.geocode(address)\n",
    "empur_latitude = location.latitude\n",
    "empur_longitude = location.longitude\n",
    "print(\"East Medinipur Geographical coordinates are Latitude={}, Lngitude={} \" .format(empur_latitude, empur_longitude))"
   ]
  },
  {
   "cell_type": "code",
   "execution_count": 325,
   "metadata": {},
   "outputs": [
    {
     "data": {
      "text/html": [
       "<div style=\"width:100%;\"><div style=\"position:relative;width:100%;height:0;padding-bottom:60%;\"><iframe src=\"data:text/html;charset=utf-8;base64,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\" style=\"position:absolute;width:100%;height:100%;left:0;top:0;border:none !important;\" allowfullscreen webkitallowfullscreen mozallowfullscreen></iframe></div></div>"
      ],
      "text/plain": [
       "<folium.folium.Map at 0x7f4f7799b4a8>"
      ]
     },
     "execution_count": 325,
     "metadata": {},
     "output_type": "execute_result"
    }
   ],
   "source": [
    "# Create a map of East Medinipur\n",
    "empur_map = folium.Map(location=[empur_latitude, empur_longitude], zoom_start=11, control_scale = True)\n",
    "\n",
    "for lat, lng, Borough, Neighbourhood in zip(loc_empur['Latitude'], loc_empur['Longitude'], loc_empur['location'], loc_empur['neighbourhood']):\n",
    "    tag = '{}, {}'.format(Neighbourhood, Borough)\n",
    "    tag = folium.Popup(tag, parse_html=True)\n",
    "    folium.CircleMarker(\n",
    "        [lat, lng],\n",
    "        radius=5,\n",
    "        popup=tag,\n",
    "        color='blue',\n",
    "        fill=True,\n",
    "        fill_color='#3186cc',\n",
    "        fill_opacity=0.6,\n",
    "        parse_html=False).add_to(empur_map)\n",
    "\n",
    "empur_map.add_child(folium.LatLngPopup())\n",
    "    \n",
    "empur_map"
   ]
  },
  {
   "cell_type": "code",
   "execution_count": 326,
   "metadata": {},
   "outputs": [
    {
     "data": {
      "text/html": [
       "<div>\n",
       "<style scoped>\n",
       "    .dataframe tbody tr th:only-of-type {\n",
       "        vertical-align: middle;\n",
       "    }\n",
       "\n",
       "    .dataframe tbody tr th {\n",
       "        vertical-align: top;\n",
       "    }\n",
       "\n",
       "    .dataframe thead th {\n",
       "        text-align: right;\n",
       "    }\n",
       "</style>\n",
       "<table border=\"1\" class=\"dataframe\">\n",
       "  <thead>\n",
       "    <tr style=\"text-align: right;\">\n",
       "      <th></th>\n",
       "      <th>location</th>\n",
       "      <th>neighbourhood</th>\n",
       "      <th>postal code</th>\n",
       "      <th>Latitude</th>\n",
       "      <th>Longitude</th>\n",
       "    </tr>\n",
       "  </thead>\n",
       "  <tbody>\n",
       "    <tr>\n",
       "      <th>0</th>\n",
       "      <td>Langkawi</td>\n",
       "      <td>Kelab Desa Langkawi</td>\n",
       "      <td>7000</td>\n",
       "      <td>6.391898</td>\n",
       "      <td>99.782611</td>\n",
       "    </tr>\n",
       "    <tr>\n",
       "      <th>1</th>\n",
       "      <td>Langkawi</td>\n",
       "      <td>Langkawi</td>\n",
       "      <td>7000</td>\n",
       "      <td>6.365918</td>\n",
       "      <td>99.780165</td>\n",
       "    </tr>\n",
       "    <tr>\n",
       "      <th>2</th>\n",
       "      <td>Langkawi</td>\n",
       "      <td>Taman Langkawi</td>\n",
       "      <td>7000</td>\n",
       "      <td>6.333786</td>\n",
       "      <td>99.816102</td>\n",
       "    </tr>\n",
       "    <tr>\n",
       "      <th>3</th>\n",
       "      <td>Langkawi</td>\n",
       "      <td>Taman Seri Langkawi</td>\n",
       "      <td>7000</td>\n",
       "      <td>6.328667</td>\n",
       "      <td>99.822043</td>\n",
       "    </tr>\n",
       "    <tr>\n",
       "      <th>4</th>\n",
       "      <td>Langkawi</td>\n",
       "      <td>Langkawi - Peti surat</td>\n",
       "      <td>7007</td>\n",
       "      <td>6.310936</td>\n",
       "      <td>99.856543</td>\n",
       "    </tr>\n",
       "  </tbody>\n",
       "</table>\n",
       "</div>"
      ],
      "text/plain": [
       "   location          neighbourhood  postal code  Latitude  Longitude\n",
       "0  Langkawi    Kelab Desa Langkawi         7000  6.391898  99.782611\n",
       "1  Langkawi               Langkawi         7000  6.365918  99.780165\n",
       "2  Langkawi         Taman Langkawi         7000  6.333786  99.816102\n",
       "3  Langkawi    Taman Seri Langkawi         7000  6.328667  99.822043\n",
       "4  Langkawi  Langkawi - Peti surat         7007  6.310936  99.856543"
      ]
     },
     "execution_count": 326,
     "metadata": {},
     "output_type": "execute_result"
    }
   ],
   "source": [
    "# Location data of Langkawi, the Malaysian national Postal Service POSMalaysia website used to collect postal information\n",
    "path_langkawi='Langkawi.csv'\n",
    "loc_langkawi=pd.read_csv(path_langkawi)\n",
    "loc_langkawi.head()"
   ]
  },
  {
   "cell_type": "code",
   "execution_count": 327,
   "metadata": {},
   "outputs": [
    {
     "name": "stdout",
     "output_type": "stream",
     "text": [
      "Langkawi Geographical coordinates are Latitude=21.4293506, Lngitude=91.9724146 \n"
     ]
    }
   ],
   "source": [
    "# get the latitude and longitude of Langkawi\n",
    "address = \"Langkawi, Malaysia\"\n",
    "geolocator = Nominatim(user_agent=\"Foursquare_agent\")\n",
    "location = geolocator.geocode(address)\n",
    "langkawi_latitude = location.latitude\n",
    "langkawi_longitude = location.longitude\n",
    "print(\"Langkawi Geographical coordinates are Latitude={}, Lngitude={} \" .format(coax_latitude, coax_longitude))"
   ]
  },
  {
   "cell_type": "code",
   "execution_count": 328,
   "metadata": {},
   "outputs": [
    {
     "data": {
      "text/html": [
       "<div style=\"width:100%;\"><div style=\"position:relative;width:100%;height:0;padding-bottom:60%;\"><iframe src=\"data:text/html;charset=utf-8;base64,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\" style=\"position:absolute;width:100%;height:100%;left:0;top:0;border:none !important;\" allowfullscreen webkitallowfullscreen mozallowfullscreen></iframe></div></div>"
      ],
      "text/plain": [
       "<folium.folium.Map at 0x7f4f75566c50>"
      ]
     },
     "execution_count": 328,
     "metadata": {},
     "output_type": "execute_result"
    }
   ],
   "source": [
    "# Create a map of Langkawi\n",
    "langkawi_map = folium.Map(location=[langkawi_latitude, langkawi_longitude], zoom_start=11, control_scale = True)\n",
    "\n",
    "for lat, lng, Borough, Neighbourhood in zip(loc_langkawi['Latitude'], loc_langkawi['Longitude'], loc_langkawi['location'], loc_langkawi['neighbourhood']):\n",
    "    tag = '{}, {}'.format(Neighbourhood, Borough)\n",
    "    tag = folium.Popup(tag, parse_html=True)\n",
    "    folium.CircleMarker(\n",
    "        [lat, lng],\n",
    "        radius=5,\n",
    "        popup=tag,\n",
    "        color='blue',\n",
    "        fill=True,\n",
    "        fill_color='#3186cc',\n",
    "        fill_opacity=0.6,\n",
    "        parse_html=False).add_to(langkawi_map)\n",
    "\n",
    "langkawi_map.add_child(folium.LatLngPopup())\n",
    "    \n",
    "langkawi_map"
   ]
  },
  {
   "cell_type": "code",
   "execution_count": 329,
   "metadata": {},
   "outputs": [],
   "source": [
    "#declearing fuction to geeting nearby function from foursqure API\n",
    "\n",
    "def getNearbyVenues (names, latitude, longitude, radius=2000, limit=100):\n",
    "    \n",
    "    venue_lst=[] # initialize empty list\n",
    "    \n",
    "    for name, lat, lng in zip (names, latitude, longitude):\n",
    "        print(name)\n",
    "        \n",
    "    \n",
    "        # Foursuare API explore generated per Neighbourhood lat / lng passed from datafreams\n",
    "        url = 'https://api.foursquare.com/v2/venues/explore?&client_id={}&client_secret={}&v={}&ll={},{}&radius={}&limit={}'.format(\n",
    "            CLIENT_ID, \n",
    "            CLIENT_SECRET, \n",
    "            VERSION, \n",
    "            lat, \n",
    "            lng, \n",
    "            radius, \n",
    "            limit)\n",
    "        \n",
    "        # Get request\n",
    "        results = requests.get(url).json()[\"response\"]['groups'][0]['items']\n",
    "                \n",
    "        # return only relevant information for each nearby venue in the preliminary list\n",
    "        venue_lst.append([(\n",
    "            name, \n",
    "            lat, \n",
    "            lng, \n",
    "            v['venue']['name'], \n",
    "            v['venue']['location']['lat'], \n",
    "            v['venue']['location']['lng'],  \n",
    "            v['venue']['categories'][0]['name']) for v in results])\n",
    "\n",
    "    venue_df = pd.DataFrame([item for venue_lst in venue_lst for item in venue_lst])\n",
    "    venue_df.columns = ['Neighbourhood', \n",
    "                  'Neigh Latitude', \n",
    "                  'Neigh Longitude', \n",
    "                  'Venue', \n",
    "                  'Venue Latitude', \n",
    "                  'Venue Longitude', \n",
    "                  'Venue Category']\n",
    "\n",
    "    print('{} venues were returned by Foursquare.'.format(venue_df.shape[0]))\n",
    "    \n",
    "    return (venue_df)"
   ]
  },
  {
   "cell_type": "code",
   "execution_count": 330,
   "metadata": {},
   "outputs": [
    {
     "name": "stdout",
     "output_type": "stream",
     "text": [
      "Badarkali\n",
      "Chiringga\n",
      "Chiringga S.O\n",
      "Malumghat\n",
      "Coxs Bazar Sadar\n",
      "Eidga\n",
      "Zhilanja\n",
      "Gorakghat\n",
      "Airport\n",
      "Ramu\n",
      "Hnila\n",
      "St.Martin\n",
      "Teknaf\n",
      "Ukhia\n",
      "45 venues were returned by Foursquare.\n"
     ]
    }
   ],
   "source": [
    "# Getting Venues In coax's bazar\n",
    "coax_venue = getNearbyVenues (names=loc_coax['neighbourhood'], \n",
    "                                     latitude=loc_coax['Latitude'], \n",
    "                                     longitude=loc_coax['Longitude'])"
   ]
  },
  {
   "cell_type": "code",
   "execution_count": 331,
   "metadata": {},
   "outputs": [
    {
     "data": {
      "text/html": [
       "<div>\n",
       "<style scoped>\n",
       "    .dataframe tbody tr th:only-of-type {\n",
       "        vertical-align: middle;\n",
       "    }\n",
       "\n",
       "    .dataframe tbody tr th {\n",
       "        vertical-align: top;\n",
       "    }\n",
       "\n",
       "    .dataframe thead th {\n",
       "        text-align: right;\n",
       "    }\n",
       "</style>\n",
       "<table border=\"1\" class=\"dataframe\">\n",
       "  <thead>\n",
       "    <tr style=\"text-align: right;\">\n",
       "      <th></th>\n",
       "      <th>Neighbourhood</th>\n",
       "      <th>Neigh Latitude</th>\n",
       "      <th>Neigh Longitude</th>\n",
       "      <th>Venue</th>\n",
       "      <th>Venue Latitude</th>\n",
       "      <th>Venue Longitude</th>\n",
       "      <th>Venue Category</th>\n",
       "    </tr>\n",
       "  </thead>\n",
       "  <tbody>\n",
       "    <tr>\n",
       "      <th>0</th>\n",
       "      <td>Malumghat</td>\n",
       "      <td>21.671797</td>\n",
       "      <td>92.076212</td>\n",
       "      <td>Dulahazra Safari Park</td>\n",
       "      <td>21.668002</td>\n",
       "      <td>92.079546</td>\n",
       "      <td>Park</td>\n",
       "    </tr>\n",
       "    <tr>\n",
       "      <th>1</th>\n",
       "      <td>Coxs Bazar Sadar</td>\n",
       "      <td>21.426932</td>\n",
       "      <td>92.005865</td>\n",
       "      <td>Inter City Bus Terminal, Cox's Bazar</td>\n",
       "      <td>21.427274</td>\n",
       "      <td>92.005004</td>\n",
       "      <td>Bus Station</td>\n",
       "    </tr>\n",
       "    <tr>\n",
       "      <th>2</th>\n",
       "      <td>Coxs Bazar Sadar</td>\n",
       "      <td>21.426932</td>\n",
       "      <td>92.005865</td>\n",
       "      <td>Mermaid Beach</td>\n",
       "      <td>21.427736</td>\n",
       "      <td>92.004646</td>\n",
       "      <td>Resort</td>\n",
       "    </tr>\n",
       "    <tr>\n",
       "      <th>3</th>\n",
       "      <td>Eidga</td>\n",
       "      <td>21.440109</td>\n",
       "      <td>91.975395</td>\n",
       "      <td>Cox's Bazar Sea Beach</td>\n",
       "      <td>21.423649</td>\n",
       "      <td>91.976262</td>\n",
       "      <td>Surf Spot</td>\n",
       "    </tr>\n",
       "    <tr>\n",
       "      <th>4</th>\n",
       "      <td>Eidga</td>\n",
       "      <td>21.440109</td>\n",
       "      <td>91.975395</td>\n",
       "      <td>Laboni Point</td>\n",
       "      <td>21.425781</td>\n",
       "      <td>91.973835</td>\n",
       "      <td>Beach</td>\n",
       "    </tr>\n",
       "    <tr>\n",
       "      <th>5</th>\n",
       "      <td>Eidga</td>\n",
       "      <td>21.440109</td>\n",
       "      <td>91.975395</td>\n",
       "      <td>CAFÉ 14, Long Beach Hotel</td>\n",
       "      <td>21.426031</td>\n",
       "      <td>91.978536</td>\n",
       "      <td>Café</td>\n",
       "    </tr>\n",
       "    <tr>\n",
       "      <th>6</th>\n",
       "      <td>Eidga</td>\n",
       "      <td>21.440109</td>\n",
       "      <td>91.975395</td>\n",
       "      <td>Niribili Restora</td>\n",
       "      <td>21.427077</td>\n",
       "      <td>91.978216</td>\n",
       "      <td>Seafood Restaurant</td>\n",
       "    </tr>\n",
       "    <tr>\n",
       "      <th>7</th>\n",
       "      <td>Eidga</td>\n",
       "      <td>21.440109</td>\n",
       "      <td>91.975395</td>\n",
       "      <td>Long Beach Hotel</td>\n",
       "      <td>21.425773</td>\n",
       "      <td>91.978672</td>\n",
       "      <td>Hotel</td>\n",
       "    </tr>\n",
       "    <tr>\n",
       "      <th>8</th>\n",
       "      <td>Eidga</td>\n",
       "      <td>21.440109</td>\n",
       "      <td>91.975395</td>\n",
       "      <td>Poushee Hotel and Restaurant</td>\n",
       "      <td>21.442345</td>\n",
       "      <td>91.970410</td>\n",
       "      <td>Restaurant</td>\n",
       "    </tr>\n",
       "    <tr>\n",
       "      <th>9</th>\n",
       "      <td>Eidga</td>\n",
       "      <td>21.440109</td>\n",
       "      <td>91.975395</td>\n",
       "      <td>Handi</td>\n",
       "      <td>21.427234</td>\n",
       "      <td>91.974365</td>\n",
       "      <td>Indian Restaurant</td>\n",
       "    </tr>\n",
       "    <tr>\n",
       "      <th>10</th>\n",
       "      <td>Eidga</td>\n",
       "      <td>21.440109</td>\n",
       "      <td>91.975395</td>\n",
       "      <td>Burmese Market, Cox's Bazar</td>\n",
       "      <td>21.442139</td>\n",
       "      <td>91.981522</td>\n",
       "      <td>Arts &amp; Crafts Store</td>\n",
       "    </tr>\n",
       "    <tr>\n",
       "      <th>11</th>\n",
       "      <td>Eidga</td>\n",
       "      <td>21.440109</td>\n",
       "      <td>91.975395</td>\n",
       "      <td>Sea Gull Hotel Cox's Bazar</td>\n",
       "      <td>21.424789</td>\n",
       "      <td>91.976116</td>\n",
       "      <td>Hotel</td>\n",
       "    </tr>\n",
       "    <tr>\n",
       "      <th>12</th>\n",
       "      <td>Eidga</td>\n",
       "      <td>21.440109</td>\n",
       "      <td>91.975395</td>\n",
       "      <td>Hotel Marine Plaza</td>\n",
       "      <td>21.423470</td>\n",
       "      <td>91.979086</td>\n",
       "      <td>Hotel</td>\n",
       "    </tr>\n",
       "    <tr>\n",
       "      <th>13</th>\n",
       "      <td>Eidga</td>\n",
       "      <td>21.440109</td>\n",
       "      <td>91.975395</td>\n",
       "      <td>Cox's Bazar Airport (CXB) (কক্সবাজার বিমানবন্দর)</td>\n",
       "      <td>21.450978</td>\n",
       "      <td>91.966327</td>\n",
       "      <td>Airport</td>\n",
       "    </tr>\n",
       "    <tr>\n",
       "      <th>14</th>\n",
       "      <td>Zhilanja</td>\n",
       "      <td>21.434111</td>\n",
       "      <td>91.986044</td>\n",
       "      <td>Cox's Bazar Sea Beach</td>\n",
       "      <td>21.423649</td>\n",
       "      <td>91.976262</td>\n",
       "      <td>Surf Spot</td>\n",
       "    </tr>\n",
       "    <tr>\n",
       "      <th>15</th>\n",
       "      <td>Zhilanja</td>\n",
       "      <td>21.434111</td>\n",
       "      <td>91.986044</td>\n",
       "      <td>CAFÉ 14, Long Beach Hotel</td>\n",
       "      <td>21.426031</td>\n",
       "      <td>91.978536</td>\n",
       "      <td>Café</td>\n",
       "    </tr>\n",
       "    <tr>\n",
       "      <th>16</th>\n",
       "      <td>Zhilanja</td>\n",
       "      <td>21.434111</td>\n",
       "      <td>91.986044</td>\n",
       "      <td>Niribili Restora</td>\n",
       "      <td>21.427077</td>\n",
       "      <td>91.978216</td>\n",
       "      <td>Seafood Restaurant</td>\n",
       "    </tr>\n",
       "    <tr>\n",
       "      <th>17</th>\n",
       "      <td>Zhilanja</td>\n",
       "      <td>21.434111</td>\n",
       "      <td>91.986044</td>\n",
       "      <td>Ocean Paradise Hotel &amp; Resort</td>\n",
       "      <td>21.418191</td>\n",
       "      <td>91.982656</td>\n",
       "      <td>Resort</td>\n",
       "    </tr>\n",
       "    <tr>\n",
       "      <th>18</th>\n",
       "      <td>Zhilanja</td>\n",
       "      <td>21.434111</td>\n",
       "      <td>91.986044</td>\n",
       "      <td>Laboni Point</td>\n",
       "      <td>21.425781</td>\n",
       "      <td>91.973835</td>\n",
       "      <td>Beach</td>\n",
       "    </tr>\n",
       "    <tr>\n",
       "      <th>19</th>\n",
       "      <td>Zhilanja</td>\n",
       "      <td>21.434111</td>\n",
       "      <td>91.986044</td>\n",
       "      <td>Long Beach Hotel</td>\n",
       "      <td>21.425773</td>\n",
       "      <td>91.978672</td>\n",
       "      <td>Hotel</td>\n",
       "    </tr>\n",
       "  </tbody>\n",
       "</table>\n",
       "</div>"
      ],
      "text/plain": [
       "       Neighbourhood  Neigh Latitude  Neigh Longitude  \\\n",
       "0          Malumghat       21.671797        92.076212   \n",
       "1   Coxs Bazar Sadar       21.426932        92.005865   \n",
       "2   Coxs Bazar Sadar       21.426932        92.005865   \n",
       "3              Eidga       21.440109        91.975395   \n",
       "4              Eidga       21.440109        91.975395   \n",
       "5              Eidga       21.440109        91.975395   \n",
       "6              Eidga       21.440109        91.975395   \n",
       "7              Eidga       21.440109        91.975395   \n",
       "8              Eidga       21.440109        91.975395   \n",
       "9              Eidga       21.440109        91.975395   \n",
       "10             Eidga       21.440109        91.975395   \n",
       "11             Eidga       21.440109        91.975395   \n",
       "12             Eidga       21.440109        91.975395   \n",
       "13             Eidga       21.440109        91.975395   \n",
       "14          Zhilanja       21.434111        91.986044   \n",
       "15          Zhilanja       21.434111        91.986044   \n",
       "16          Zhilanja       21.434111        91.986044   \n",
       "17          Zhilanja       21.434111        91.986044   \n",
       "18          Zhilanja       21.434111        91.986044   \n",
       "19          Zhilanja       21.434111        91.986044   \n",
       "\n",
       "                                               Venue  Venue Latitude  \\\n",
       "0                              Dulahazra Safari Park       21.668002   \n",
       "1               Inter City Bus Terminal, Cox's Bazar       21.427274   \n",
       "2                                      Mermaid Beach       21.427736   \n",
       "3                              Cox's Bazar Sea Beach       21.423649   \n",
       "4                                       Laboni Point       21.425781   \n",
       "5                          CAFÉ 14, Long Beach Hotel       21.426031   \n",
       "6                                   Niribili Restora       21.427077   \n",
       "7                                   Long Beach Hotel       21.425773   \n",
       "8                       Poushee Hotel and Restaurant       21.442345   \n",
       "9                                              Handi       21.427234   \n",
       "10                       Burmese Market, Cox's Bazar       21.442139   \n",
       "11                        Sea Gull Hotel Cox's Bazar       21.424789   \n",
       "12                                Hotel Marine Plaza       21.423470   \n",
       "13  Cox's Bazar Airport (CXB) (কক্সবাজার বিমানবন্দর)       21.450978   \n",
       "14                             Cox's Bazar Sea Beach       21.423649   \n",
       "15                         CAFÉ 14, Long Beach Hotel       21.426031   \n",
       "16                                  Niribili Restora       21.427077   \n",
       "17                     Ocean Paradise Hotel & Resort       21.418191   \n",
       "18                                      Laboni Point       21.425781   \n",
       "19                                  Long Beach Hotel       21.425773   \n",
       "\n",
       "    Venue Longitude       Venue Category  \n",
       "0         92.079546                 Park  \n",
       "1         92.005004          Bus Station  \n",
       "2         92.004646               Resort  \n",
       "3         91.976262            Surf Spot  \n",
       "4         91.973835                Beach  \n",
       "5         91.978536                 Café  \n",
       "6         91.978216   Seafood Restaurant  \n",
       "7         91.978672                Hotel  \n",
       "8         91.970410           Restaurant  \n",
       "9         91.974365    Indian Restaurant  \n",
       "10        91.981522  Arts & Crafts Store  \n",
       "11        91.976116                Hotel  \n",
       "12        91.979086                Hotel  \n",
       "13        91.966327              Airport  \n",
       "14        91.976262            Surf Spot  \n",
       "15        91.978536                 Café  \n",
       "16        91.978216   Seafood Restaurant  \n",
       "17        91.982656               Resort  \n",
       "18        91.973835                Beach  \n",
       "19        91.978672                Hotel  "
      ]
     },
     "execution_count": 331,
     "metadata": {},
     "output_type": "execute_result"
    }
   ],
   "source": [
    "coax_venue.head(20)"
   ]
  },
  {
   "cell_type": "code",
   "execution_count": 332,
   "metadata": {},
   "outputs": [
    {
     "data": {
      "text/plain": [
       "Venue Category\n",
       "Airport                2\n",
       "Arts & Crafts Store    3\n",
       "Bakery                 1\n",
       "Beach                  7\n",
       "Boat or Ferry          1\n",
       "Bus Station            3\n",
       "Café                   2\n",
       "Fish & Chips Shop      1\n",
       "Hotel                  6\n",
       "Indian Restaurant      2\n",
       "Park                   1\n",
       "Resort                 5\n",
       "Restaurant             4\n",
       "Seafood Restaurant     4\n",
       "Surf Spot              2\n",
       "Trail                  1\n",
       "Name: Venue, dtype: int64"
      ]
     },
     "execution_count": 332,
     "metadata": {},
     "output_type": "execute_result"
    }
   ],
   "source": [
    "# Counting the number of diffrent types of venue\n",
    "coax_venue['Venue'].groupby(coax_venue['Venue Category']).count()"
   ]
  },
  {
   "cell_type": "code",
   "execution_count": 333,
   "metadata": {},
   "outputs": [
    {
     "data": {
      "text/plain": [
       "Neighbourhood\n",
       "Airport              4\n",
       "Coxs Bazar Sadar     2\n",
       "Eidga               11\n",
       "Gorakghat            1\n",
       "Hnila                1\n",
       "Malumghat            1\n",
       "Ramu                 2\n",
       "St.Martin            8\n",
       "Teknaf               2\n",
       "Zhilanja            13\n",
       "Name: Venue, dtype: int64"
      ]
     },
     "execution_count": 333,
     "metadata": {},
     "output_type": "execute_result"
    }
   ],
   "source": [
    "# counting the number of venue in diffrent neibourhood\n",
    "coax_venue['Venue'].groupby(coax_venue['Neighbourhood']).count()"
   ]
  },
  {
   "cell_type": "code",
   "execution_count": 334,
   "metadata": {},
   "outputs": [
    {
     "data": {
      "text/plain": [
       "Venue Category\n",
       "Beach                  7\n",
       "Hotel                  6\n",
       "Resort                 5\n",
       "Seafood Restaurant     4\n",
       "Restaurant             4\n",
       "Bus Station            3\n",
       "Arts & Crafts Store    3\n",
       "Surf Spot              2\n",
       "Indian Restaurant      2\n",
       "Café                   2\n",
       "Airport                2\n",
       "Trail                  1\n",
       "Park                   1\n",
       "Fish & Chips Shop      1\n",
       "Boat or Ferry          1\n",
       "Bakery                 1\n",
       "Name: Venue, dtype: int64"
      ]
     },
     "execution_count": 334,
     "metadata": {},
     "output_type": "execute_result"
    }
   ],
   "source": [
    "coax_venue['Venue'].groupby(coax_venue['Venue Category']).count().sort_values(ascending=False).head(20)"
   ]
  },
  {
   "cell_type": "code",
   "execution_count": 335,
   "metadata": {},
   "outputs": [
    {
     "name": "stdout",
     "output_type": "stream",
     "text": [
      "Gopalchak \n",
      "Deuli\n",
      "Bodhra\n",
      "Narkuli\n",
      "Balisai\n",
      "Satilapur\n",
      "Narandia\n",
      "Karanji\n",
      "Dakhin Badalpur\n",
      "Shyampur\n",
      "Chaulkhola\n",
      "Islampur\n",
      "Dakshin Kalyanpur\n",
      "Pichabani\n",
      "Bhuniajibarh\n",
      "Silampur\n",
      "Kalindi\n",
      "Dadanpatrabarh\n",
      "Kalindi Teghari\n",
      "Mandarmoni\n",
      "Digha\n",
      "Paya-Medinipur\n",
      "Saripur\n",
      "Digha New Township\n",
      "34 venues were returned by Foursquare.\n"
     ]
    }
   ],
   "source": [
    "# Getting Venues In East Medinipur\n",
    "empur_venue = getNearbyVenues (names=loc_empur['neighbourhood'], \n",
    "                                     latitude=loc_empur['Latitude'], \n",
    "                                     longitude=loc_empur['Longitude'])"
   ]
  },
  {
   "cell_type": "code",
   "execution_count": 336,
   "metadata": {},
   "outputs": [
    {
     "data": {
      "text/plain": [
       "Venue Category\n",
       "ATM                                4\n",
       "Beach                              9\n",
       "Hotel                             14\n",
       "Indian Restaurant                  2\n",
       "Multicuisine Indian Restaurant     1\n",
       "Resort                             2\n",
       "Train Station                      2\n",
       "Name: Venue, dtype: int64"
      ]
     },
     "execution_count": 336,
     "metadata": {},
     "output_type": "execute_result"
    }
   ],
   "source": [
    "# Counting the number of diffrent types of venue\n",
    "empur_venue['Venue'].groupby(empur_venue['Venue Category']).count()"
   ]
  },
  {
   "cell_type": "code",
   "execution_count": 337,
   "metadata": {},
   "outputs": [
    {
     "data": {
      "text/plain": [
       "Neighbourhood\n",
       "Balisai               1\n",
       "Bodhra                1\n",
       "Chaulkhola            2\n",
       "Dadanpatrabarh        3\n",
       "Digha                 7\n",
       "Digha New Township    5\n",
       "Gopalchak             1\n",
       "Mandarmoni            4\n",
       "Narandia              1\n",
       "Saripur               4\n",
       "Satilapur             1\n",
       "Silampur              4\n",
       "Name: Venue, dtype: int64"
      ]
     },
     "execution_count": 337,
     "metadata": {},
     "output_type": "execute_result"
    }
   ],
   "source": [
    "# counting the number of venue in diffrent neibourhood\n",
    "empur_venue['Venue'].groupby(empur_venue['Neighbourhood']).count()"
   ]
  },
  {
   "cell_type": "code",
   "execution_count": 338,
   "metadata": {},
   "outputs": [
    {
     "data": {
      "text/plain": [
       "Venue Category\n",
       "Hotel                             14\n",
       "Beach                              9\n",
       "ATM                                4\n",
       "Train Station                      2\n",
       "Resort                             2\n",
       "Indian Restaurant                  2\n",
       "Multicuisine Indian Restaurant     1\n",
       "Name: Venue, dtype: int64"
      ]
     },
     "execution_count": 338,
     "metadata": {},
     "output_type": "execute_result"
    }
   ],
   "source": [
    "empur_venue['Venue'].groupby(empur_venue['Venue Category']).count().sort_values(ascending=False).head(20)"
   ]
  },
  {
   "cell_type": "code",
   "execution_count": 339,
   "metadata": {},
   "outputs": [
    {
     "name": "stdout",
     "output_type": "stream",
     "text": [
      "Kelab Desa Langkawi\n",
      "Langkawi\n",
      "Taman Langkawi\n",
      "Taman Seri Langkawi\n",
      "Langkawi - Peti surat\n",
      "Langkawi - Beg berkunci\n",
      "199 venues were returned by Foursquare.\n"
     ]
    }
   ],
   "source": [
    "# Getting Venues In Langkawi\n",
    "langkawi_venue = getNearbyVenues (names=loc_langkawi['neighbourhood'], \n",
    "                                     latitude=loc_langkawi['Latitude'], \n",
    "                                     longitude=loc_langkawi['Longitude'])"
   ]
  },
  {
   "cell_type": "code",
   "execution_count": 340,
   "metadata": {},
   "outputs": [
    {
     "data": {
      "text/plain": [
       "Venue Category\n",
       "American Restaurant     1\n",
       "Art Gallery             1\n",
       "Asian Restaurant       12\n",
       "Athletics & Sports      1\n",
       "Bakery                  2\n",
       "                       ..\n",
       "Surf Spot               1\n",
       "Tennis Court            1\n",
       "Thai Restaurant         4\n",
       "Theme Park              2\n",
       "Wine Bar                1\n",
       "Name: Venue, Length: 69, dtype: int64"
      ]
     },
     "execution_count": 340,
     "metadata": {},
     "output_type": "execute_result"
    }
   ],
   "source": [
    "# Counting the number of diffrent types of venue\n",
    "langkawi_venue['Venue'].groupby(langkawi_venue['Venue Category']).count()"
   ]
  },
  {
   "cell_type": "code",
   "execution_count": 341,
   "metadata": {},
   "outputs": [
    {
     "data": {
      "text/plain": [
       "Neighbourhood\n",
       "Kelab Desa Langkawi          4\n",
       "Langkawi                    17\n",
       "Langkawi - Beg berkunci      8\n",
       "Langkawi - Peti surat      100\n",
       "Taman Langkawi              27\n",
       "Taman Seri Langkawi         43\n",
       "Name: Venue, dtype: int64"
      ]
     },
     "execution_count": 341,
     "metadata": {},
     "output_type": "execute_result"
    }
   ],
   "source": [
    "# counting the number of venue in diffrent neibourhood\n",
    "langkawi_venue['Venue'].groupby(langkawi_venue['Neighbourhood']).count()"
   ]
  },
  {
   "cell_type": "code",
   "execution_count": 342,
   "metadata": {},
   "outputs": [
    {
     "data": {
      "text/plain": [
       "Venue Category\n",
       "Malay Restaurant         22\n",
       "Seafood Restaurant       12\n",
       "Asian Restaurant         12\n",
       "Hotel                    10\n",
       "Resort                   10\n",
       "Motel                     8\n",
       "Restaurant                7\n",
       "Café                      6\n",
       "Food Court                5\n",
       "Flea Market               5\n",
       "Halal Restaurant          5\n",
       "Breakfast Spot            4\n",
       "Shopping Mall             4\n",
       "Indonesian Restaurant     4\n",
       "Park                      4\n",
       "Thai Restaurant           4\n",
       "Food Truck                3\n",
       "Department Store          3\n",
       "Convenience Store         3\n",
       "Chinese Restaurant        3\n",
       "Name: Venue, dtype: int64"
      ]
     },
     "execution_count": 342,
     "metadata": {},
     "output_type": "execute_result"
    }
   ],
   "source": [
    "langkawi_venue['Venue'].groupby(langkawi_venue['Venue Category']).count().sort_values(ascending=False).head(20)"
   ]
  },
  {
   "cell_type": "code",
   "execution_count": 343,
   "metadata": {},
   "outputs": [],
   "source": [
    "# Save coax's bazar  venues data into  CSV file\n",
    "coax_venue.to_csv(r'Venue_of_coaxbazar.csv', index=False)"
   ]
  },
  {
   "cell_type": "code",
   "execution_count": 344,
   "metadata": {},
   "outputs": [],
   "source": [
    "# Save east medinipur venues data into  CSV file\n",
    "empur_venue.to_csv(r'Venue_of_eastmedinipur.csv', index=False)"
   ]
  },
  {
   "cell_type": "code",
   "execution_count": 345,
   "metadata": {},
   "outputs": [],
   "source": [
    "# Save langkawi venues data into  CSV file\n",
    "langkawi_venue.to_csv(r'Venue_of_langkawi.csv', index=False)"
   ]
  },
  {
   "cell_type": "code",
   "execution_count": 346,
   "metadata": {},
   "outputs": [],
   "source": [
    "# defining waffle chart, next it was used to vesualize the data\n",
    "def create_waffle_chart(categories, values, height, width, colormap, value_sign=''):\n",
    "\n",
    "    # compute the proportion of each category with respect to the total\n",
    "    total_values = sum(values)\n",
    "    category_proportions = [(float(value) / total_values) for value in values]\n",
    "\n",
    "    # compute the total number of tiles\n",
    "    total_num_tiles = width * height # total number of tiles\n",
    "    print ('Total number of tiles is', total_num_tiles)\n",
    "    \n",
    "    # compute the number of tiles for each catagory\n",
    "    tiles_per_category = [round(proportion * total_num_tiles) for proportion in category_proportions]\n",
    "\n",
    "    # print out number of tiles per category\n",
    "    for i, tiles in enumerate(tiles_per_category):\n",
    "        print (ef['Venue Category'][i] + ': ' + str(tiles))\n",
    "    \n",
    "    # initialize the waffle chart as an empty matrix\n",
    "    waffle_chart = np.zeros((height, width))\n",
    "\n",
    "    # define indices to loop through waffle chart\n",
    "    category_index = 0\n",
    "    tile_index = 0\n",
    "\n",
    "    # populate the waffle chart\n",
    "    for col in range(width):\n",
    "        for row in range(height):\n",
    "            tile_index += 1\n",
    "\n",
    "            # if the number of tiles populated for the current category \n",
    "            # is equal to its corresponding allocated tiles...\n",
    "            if tile_index > sum(tiles_per_category[0:category_index]):\n",
    "                # ...proceed to the next category\n",
    "                category_index += 1       \n",
    "            \n",
    "            # set the class value to an integer, which increases with class\n",
    "            waffle_chart[row, col] = category_index\n",
    "    \n",
    "    # instantiate a new figure object\n",
    "    fig = plt.figure()\n",
    "    fig.set_figwidth(40) # set width\n",
    "    fig.set_figheight(20) # set height\n",
    "\n",
    "\n",
    "    # use matshow to display the waffle chart\n",
    "    colormap = plt.cm.coolwarm\n",
    "    plt.matshow(waffle_chart, cmap=colormap)\n",
    "    plt.colorbar()\n",
    "\n",
    "    # get the axis\n",
    "    ax = plt.gca()\n",
    "\n",
    "    # set minor ticks\n",
    "    ax.set_xticks(np.arange(-.5, (width), 1), minor=True)\n",
    "    ax.set_yticks(np.arange(-.5, (height), 1), minor=True)\n",
    "    \n",
    "    # add dridlines based on minor ticks\n",
    "    ax.grid(which='minor', color='w', linestyle='-', linewidth=2)\n",
    "\n",
    "    plt.xticks([])\n",
    "    plt.yticks([])\n",
    "\n",
    "    # compute cumulative sum of individual categories to match color schemes between chart and legend\n",
    "    values_cumsum = np.cumsum(values)\n",
    "    total_values = values_cumsum[len(values_cumsum) - 1]\n",
    "\n",
    "    # create legend\n",
    "    legend_handles = []\n",
    "    for i, category in enumerate(categories):\n",
    "        if value_sign == '%':\n",
    "            label_str = category + ' (' + str(values[i]) + value_sign + ')'\n",
    "        else:\n",
    "            label_str = category + ' (' + value_sign + str(values[i]) + ')'\n",
    "            \n",
    "        color_val = colormap(float(values_cumsum[i])/total_values)\n",
    "        legend_handles.append(mpatches.Patch(color=color_val, label=label_str))\n",
    "\n",
    "    # add legend to chart\n",
    "    plt.legend(\n",
    "        handles=legend_handles,\n",
    "        loc='lower center', \n",
    "        ncol=len(categories),\n",
    "        bbox_to_anchor=(0., -0.2, 0.95, .1)\n",
    "       \n",
    "    )"
   ]
  },
  {
   "cell_type": "code",
   "execution_count": 347,
   "metadata": {},
   "outputs": [
    {
     "name": "stdout",
     "output_type": "stream",
     "text": [
      "Total number of tiles is 480\n",
      "Beach: 88\n",
      "Hotel: 76\n",
      "Resort: 63\n",
      "Seafood Restaurant: 51\n",
      "Restaurant: 51\n",
      "Bus Station: 38\n",
      "Arts & Crafts Store: 38\n",
      "Surf Spot: 25\n",
      "Indian Restaurant: 25\n",
      "Café: 25\n"
     ]
    },
    {
     "data": {
      "text/plain": [
       "<Figure size 2880x1440 with 0 Axes>"
      ]
     },
     "metadata": {},
     "output_type": "display_data"
    },
    {
     "data": {
      "image/png": "[encoded data removed]",
      "text/plain": [
       "<Figure size 960x288 with 2 Axes>"
      ]
     },
     "metadata": {
      "needs_background": "light"
     },
     "output_type": "display_data"
    }
   ],
   "source": [
    "# Waffle chart of Top 10 Venue Category of Coax's Bazer\n",
    "ef=pd.DataFrame(coax_venue['Venue'].groupby(coax_venue['Venue Category']).count().sort_values(ascending=False).head(10))\n",
    "ef.reset_index(inplace=True)\n",
    "ef.rename(columns={\"Venue\": \"total\"}, inplace=True)\n",
    "ef.head()\n",
    "\n",
    "width = 40 # width of chart\n",
    "height = 12 # height of chart\n",
    "\n",
    "categories = ef['Venue Category'] # categories\n",
    "values = ef['total'] # correponding values of categories\n",
    "\n",
    "colormap = plt.cm.coolwarm # color map class\n",
    "\n",
    "create_waffle_chart(categories, values, height, width, colormap)"
   ]
  },
  {
   "cell_type": "code",
   "execution_count": 348,
   "metadata": {},
   "outputs": [
    {
     "name": "stdout",
     "output_type": "stream",
     "text": [
      "Total number of tiles is 480\n",
      "Hotel: 198\n",
      "Beach: 127\n",
      "ATM: 56\n",
      "Train Station: 28\n",
      "Resort: 28\n",
      "Indian Restaurant: 28\n",
      "Multicuisine Indian Restaurant: 14\n"
     ]
    },
    {
     "data": {
      "text/plain": [
       "<Figure size 2880x1440 with 0 Axes>"
      ]
     },
     "metadata": {},
     "output_type": "display_data"
    },
    {
     "data": {
      "image/png": "[encoded data removed]",
      "text/plain": [
       "<Figure size 960x288 with 2 Axes>"
      ]
     },
     "metadata": {
      "needs_background": "light"
     },
     "output_type": "display_data"
    }
   ],
   "source": [
    "# Waffle chart of Top 10 Venue Category of East Medanipur\n",
    "ef=pd.DataFrame(empur_venue['Venue'].groupby(empur_venue['Venue Category']).count().sort_values(ascending=False).head(10))\n",
    "ef.reset_index(inplace=True)\n",
    "ef.rename(columns={\"Venue\": \"total\"}, inplace=True)\n",
    "ef.head()\n",
    "\n",
    "width = 40 # width of chart\n",
    "height = 12 # height of chart\n",
    "\n",
    "categories = ef['Venue Category'] # categories\n",
    "values = ef['total'] # correponding values of categories\n",
    "\n",
    "colormap = plt.cm.coolwarm # color map class\n",
    "\n",
    "create_waffle_chart(categories, values, height, width, colormap)"
   ]
  },
  {
   "cell_type": "code",
   "execution_count": 349,
   "metadata": {},
   "outputs": [
    {
     "name": "stdout",
     "output_type": "stream",
     "text": [
      "Total number of tiles is 480\n",
      "Malay Restaurant: 109\n",
      "Seafood Restaurant: 59\n",
      "Asian Restaurant: 59\n",
      "Hotel: 49\n",
      "Resort: 49\n",
      "Motel: 40\n",
      "Restaurant: 35\n",
      "Café: 30\n",
      "Food Court: 25\n",
      "Flea Market: 25\n"
     ]
    },
    {
     "data": {
      "text/plain": [
       "<Figure size 2880x1440 with 0 Axes>"
      ]
     },
     "metadata": {},
     "output_type": "display_data"
    },
    {
     "data": {
      "image/png": "[encoded data removed]",
      "text/plain": [
       "<Figure size 960x288 with 2 Axes>"
      ]
     },
     "metadata": {
      "needs_background": "light"
     },
     "output_type": "display_data"
    }
   ],
   "source": [
    "# Waffle chart of Top 10 Venue Category of Langkawi\n",
    "ef=pd.DataFrame(langkawi_venue['Venue'].groupby(langkawi_venue['Venue Category']).count().sort_values(ascending=False).head(10))\n",
    "ef.reset_index(inplace=True)\n",
    "ef.rename(columns={\"Venue\": \"total\"}, inplace=True)\n",
    "ef.head()\n",
    "\n",
    "width = 40 # width of chart\n",
    "height = 12 # height of chart\n",
    "\n",
    "categories = ef['Venue Category'] # categories\n",
    "values = ef['total'] # correponding values of categories\n",
    "\n",
    "colormap = plt.cm.coolwarm # color map class\n",
    "\n",
    "create_waffle_chart(categories, values, height, width, colormap)"
   ]
  },
  {
   "cell_type": "code",
   "execution_count": 368,
   "metadata": {},
   "outputs": [
    {
     "data": {
      "text/plain": [
       "array(['Park', 'Bus Station', 'Resort', 'Surf Spot', 'Beach', 'Café',\n",
       "       'Seafood Restaurant', 'Hotel', 'Restaurant', 'Indian Restaurant',\n",
       "       'Arts & Crafts Store', 'Airport', 'Trail', 'Bakery',\n",
       "       'Boat or Ferry', 'Fish & Chips Shop'], dtype=object)"
      ]
     },
     "execution_count": 368,
     "metadata": {},
     "output_type": "execute_result"
    }
   ],
   "source": [
    "coax_venue['Venue Category'].unique()"
   ]
  },
  {
   "cell_type": "code",
   "execution_count": 354,
   "metadata": {},
   "outputs": [
    {
     "data": {
      "text/plain": [
       "array(['ATM', 'Hotel', 'Beach', 'Resort', 'Indian Restaurant',\n",
       "       'Multicuisine Indian Restaurant', 'Train Station'], dtype=object)"
      ]
     },
     "execution_count": 354,
     "metadata": {},
     "output_type": "execute_result"
    }
   ],
   "source": [
    "empur_venue['Venue Category'].unique()"
   ]
  },
  {
   "cell_type": "code",
   "execution_count": 355,
   "metadata": {},
   "outputs": [
    {
     "data": {
      "text/plain": [
       "array(['Malay Restaurant', 'Café', 'Motel', 'Theme Park', 'Racetrack',\n",
       "       'Restaurant', 'Park', 'Asian Restaurant', 'Boat or Ferry',\n",
       "       'Bakery', 'Lake', 'Garden Center', 'Breakfast Spot', 'Resort',\n",
       "       'Hotel', 'Convenience Store', 'Market', 'Bed & Breakfast',\n",
       "       'Burger Joint', 'Seafood Restaurant', 'Halal Restaurant',\n",
       "       'Food Court', 'Food', 'Flea Market', 'Food Truck',\n",
       "       'Thai Restaurant', 'Indonesian Restaurant', 'Soccer Field',\n",
       "       'Beach', 'Korean Restaurant', 'Department Store', 'Shopping Mall',\n",
       "       'Chinese Restaurant', 'Music Store', 'Harbor / Marina', 'Island',\n",
       "       'Monument / Landmark', 'Bowling Alley', 'Coffee Shop', 'Spa',\n",
       "       'Ice Cream Shop', 'American Restaurant', 'Candy Store',\n",
       "       'Middle Eastern Restaurant', 'Fast Food Restaurant', 'Bistro',\n",
       "       'Wine Bar', 'Smoke Shop', 'Diner', 'Athletics & Sports',\n",
       "       'Miscellaneous Shop', 'Scenic Lookout', 'Pharmacy', 'Boutique',\n",
       "       'Liquor Store', 'Playground', 'Bank', 'Tennis Court', 'Surf Spot',\n",
       "       'Pizza Place', 'Nightlife Spot', 'French Restaurant',\n",
       "       'Art Gallery', 'Shoe Store', 'Indian Restaurant', 'Dessert Shop',\n",
       "       'Bubble Tea Shop', 'Gym', 'Golf Course'], dtype=object)"
      ]
     },
     "execution_count": 355,
     "metadata": {},
     "output_type": "execute_result"
    }
   ],
   "source": [
    "langkawi_venue['Venue Category'].unique()"
   ]
  },
  {
   "cell_type": "code",
   "execution_count": 359,
   "metadata": {},
   "outputs": [
    {
     "name": "stdout",
     "output_type": "stream",
     "text": [
      "Number of unique Venue Category in Coax's Bazar: 16\n"
     ]
    }
   ],
   "source": [
    "print(\"Number of unique Venue Category in Coax's Bazar:\", coax_venue['Venue Category'].nunique())"
   ]
  },
  {
   "cell_type": "code",
   "execution_count": 360,
   "metadata": {},
   "outputs": [
    {
     "name": "stdout",
     "output_type": "stream",
     "text": [
      "Number of unique Venue Category in East Medenipur: 7\n"
     ]
    }
   ],
   "source": [
    "print(\"Number of unique Venue Category in East Medenipur:\", empur_venue['Venue Category'].nunique())"
   ]
  },
  {
   "cell_type": "code",
   "execution_count": 361,
   "metadata": {},
   "outputs": [
    {
     "name": "stdout",
     "output_type": "stream",
     "text": [
      "Number of unique Venue Category in Langklawi: 69\n"
     ]
    }
   ],
   "source": [
    "print(\"Number of unique Venue Category in Langklawi:\", langkawi_venue['Venue Category'].nunique())"
   ]
  },
  {
   "cell_type": "code",
   "execution_count": null,
   "metadata": {},
   "outputs": [],
   "source": []
  }
 ],
 "metadata": {
  "kernelspec": {
   "display_name": "Python",
   "language": "python",
   "name": "conda-env-python-py"
  },
  "language_info": {
   "codemirror_mode": {
    "name": "ipython",
    "version": 3
   },
   "file_extension": ".py",
   "mimetype": "text/x-python",
   "name": "python",
   "nbconvert_exporter": "python",
   "pygments_lexer": "ipython3",
   "version": "3.6.7"
  }
 },
 "nbformat": 4,
 "nbformat_minor": 4
}
