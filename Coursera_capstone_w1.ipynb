{
 "cells": [
  {
   "cell_type": "markdown",
   "metadata": {},
   "source": [
    "# IBM Data Science\n",
    "## Coursera Capstone\n",
    "### Week One\n",
    "#### Task: Print statement and Push the Notebook to Github repository.\n",
    "#### Task Descriptions \n",
    "##### 1. Write some markdown to explain that this notebook will be mainly used for the capstone project.\n",
    "##### 2. Import the pandas library as pd.\n",
    "##### 3. Import the Numpy library as np.\n",
    "##### 4. Print the following the statement: Hello Capstone Project Course!"
   ]
  },
  {
   "cell_type": "markdown",
   "metadata": {},
   "source": [
    "#### My Code"
   ]
  },
  {
   "cell_type": "code",
   "execution_count": 2,
   "metadata": {},
   "outputs": [
    {
     "name": "stdout",
     "output_type": "stream",
     "text": [
      "Library Imported\n"
     ]
    }
   ],
   "source": [
    "#importing Pandas and Numpy \n",
    "\n",
    "import pandas as pd\n",
    "import numpy as np\n",
    "print (\"Library Imported\")"
   ]
  },
  {
   "cell_type": "code",
   "execution_count": 3,
   "metadata": {},
   "outputs": [
    {
     "name": "stdout",
     "output_type": "stream",
     "text": [
      "Hello Capstone Project Course!\n"
     ]
    }
   ],
   "source": [
    "#printing the given statement\n",
    "\n",
    "print ('Hello Capstone Project Course!')"
   ]
  },
  {
   "cell_type": "markdown",
   "metadata": {},
   "source": [
    "#### Thank you for your time"
   ]
  }
 ],
 "metadata": {
  "kernelspec": {
   "display_name": "Python",
   "language": "python",
   "name": "conda-env-python-py"
  },
  "language_info": {
   "codemirror_mode": {
    "name": "ipython",
    "version": 3
   },
   "file_extension": ".py",
   "mimetype": "text/x-python",
   "name": "python",
   "nbconvert_exporter": "python",
   "pygments_lexer": "ipython3",
   "version": "3.6.7"
  }
 },
 "nbformat": 4,
 "nbformat_minor": 4
}
